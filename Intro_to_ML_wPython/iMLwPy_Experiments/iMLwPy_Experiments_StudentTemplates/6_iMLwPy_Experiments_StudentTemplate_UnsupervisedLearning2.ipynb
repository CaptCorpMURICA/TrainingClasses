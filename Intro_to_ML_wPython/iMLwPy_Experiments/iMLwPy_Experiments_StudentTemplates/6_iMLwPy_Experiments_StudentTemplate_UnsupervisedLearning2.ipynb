{
 "cells": [
  {
   "cell_type": "markdown",
   "metadata": {},
   "source": [
    "# Student Template Experiments 6: Unsupervised Learning 2 - Clustering"
   ]
  },
  {
   "cell_type": "markdown",
   "metadata": {},
   "source": [
    "# Imports"
   ]
  },
  {
   "cell_type": "code",
   "execution_count": 1,
   "metadata": {},
   "outputs": [],
   "source": [
    "# Imports\n",
    "import numpy as np\n",
    "import pandas as pd\n",
    "import graphviz\n",
    "import mglearn as mglearn\n",
    "import mglearn.plots\n",
    "import mglearn.datasets\n",
    "import matplotlib.pyplot as plt\n",
    "# ensures plots are inlined for the notebook presentation\n",
    "%matplotlib inline \n",
    "import scipy as sp\n",
    "from scipy import stats\n",
    "from scipy.cluster.hierarchy import dendrogram, ward\n",
    "import time\n",
    "from IPython.display import display\n",
    "import seaborn as sns\n",
    "import os\n",
    "import tensorflow as tf"
   ]
  },
  {
   "cell_type": "code",
   "execution_count": 2,
   "metadata": {},
   "outputs": [],
   "source": [
    "# Sci-Kit Imports\n",
    "import sklearn as sklearn\n",
    "from sklearn import metrics\n",
    "from sklearn.metrics import mean_squared_error\n",
    "from sklearn.metrics.cluster import adjusted_rand_score\n",
    "from sklearn.metrics.cluster import silhouette_score\n",
    "from sklearn.metrics import accuracy_score\n",
    "from sklearn.metrics import roc_curve, auc\n",
    "from sklearn.metrics import r2_score\n",
    "from sklearn.metrics import confusion_matrix, classification_report\n",
    "from sklearn.multiclass import OneVsRestClassifier\n",
    "from sklearn.model_selection import train_test_split\n",
    "from sklearn.linear_model import LinearRegression\n",
    "from sklearn.linear_model import Ridge\n",
    "from sklearn.linear_model import Lasso\n",
    "from sklearn.linear_model import LogisticRegression\n",
    "from sklearn.tree import DecisionTreeRegressor\n",
    "from sklearn.tree import DecisionTreeClassifier\n",
    "from sklearn.ensemble import RandomForestClassifier\n",
    "from sklearn.ensemble import GradientBoostingClassifier\n",
    "from sklearn.naive_bayes import GaussianNB, BernoulliNB, MultinomialNB\n",
    "from sklearn.svm import LinearSVC\n",
    "from sklearn.svm import SVC\n",
    "from sklearn.neural_network import MLPClassifier\n",
    "from sklearn.neighbors import KNeighborsClassifier\n",
    "from sklearn.neighbors import KNeighborsRegressor\n",
    "from sklearn.pipeline import make_pipeline\n",
    "from sklearn.preprocessing import MinMaxScaler\n",
    "from sklearn.preprocessing import StandardScaler\n",
    "from sklearn.decomposition import PCA\n",
    "from sklearn.decomposition import NMF\n",
    "from sklearn.manifold import TSNE\n",
    "from sklearn.cluster import KMeans\n",
    "from sklearn.cluster import AgglomerativeClustering\n",
    "from sklearn.cluster import DBSCAN\n",
    "\n",
    "import sklearn.datasets as datasets\n",
    "from sklearn.datasets import make_blobs\n",
    "from sklearn.datasets import load_iris\n",
    "# from sklearn.datasets import load_breast_cancer\n",
    "# from sklearn.datasets import fetch_lfw_people\n",
    "# from sklearn.datasets import load_digits\n",
    "# from sklearn.datasets import make_moons\n",
    "# from sklearn.datasets import make_circles\n",
    "from sklearn.datasets import load_wine"
   ]
  },
  {
   "cell_type": "code",
   "execution_count": 3,
   "metadata": {},
   "outputs": [],
   "source": [
    "# Mute warnings\n",
    "import warnings\n",
    "warnings.simplefilter(action='ignore', category=DeprecationWarning)\n",
    "warnings.simplefilter(action='ignore', category=FutureWarning)\n",
    "warnings.simplefilter(action='ignore', category=UserWarning)\n",
    "# warnings.simplefilter(action='ignore', category=WARNING)"
   ]
  },
  {
   "cell_type": "markdown",
   "metadata": {},
   "source": [
    "# Generate random data, create 3 clusters, apply algorithms"
   ]
  },
  {
   "cell_type": "code",
   "execution_count": 4,
   "metadata": {},
   "outputs": [],
   "source": [
    "# generate some random cluster data \n"
   ]
  },
  {
   "cell_type": "code",
   "execution_count": 5,
   "metadata": {},
   "outputs": [],
   "source": [
    "# KMmeans cluster the data into three clusters \n",
    "# kmeans = KMeans(n_clusters = 3) \n",
    "# kmeans.fit(X) \n",
    "# kmeans.predict(X)\n",
    "\n",
    "# KMeans plot the cluster assignments and cluster centers \n"
   ]
  },
  {
   "cell_type": "code",
   "execution_count": 6,
   "metadata": {},
   "outputs": [],
   "source": [
    "# Agglomerative Clustering with Dendrogram plot\n",
    "\n",
    "# from sklearn.datasets import make_blobs \n",
    "# make synthetic data \n"
   ]
  },
  {
   "cell_type": "code",
   "execution_count": 7,
   "metadata": {},
   "outputs": [],
   "source": [
    "# Import the dendrogram function and the ward clustering function from SciPy\n",
    "# from scipy.cluster.hierarchy import dendrogram, ward\n",
    "# Apply the ward clustering to the data array\n",
    "# The SciPy ward function returns an array that specifies the distances\n",
    "# bridged when performing agglomerative clustering\n",
    "# linkage_array = ward(X_blob)\n",
    "\n",
    "# Plot the dendrogram for the linkage_array containing the distancesbetween clusters\n",
    "# dendrogram(linkage_array)\n",
    "\n",
    "# marke the cuts in the tree that signify two or three clusters\n"
   ]
  },
  {
   "cell_type": "markdown",
   "metadata": {},
   "source": [
    "# Iris data set - K-Means clustering and other Algorithms"
   ]
  },
  {
   "cell_type": "code",
   "execution_count": 8,
   "metadata": {},
   "outputs": [],
   "source": [
    "# import sklearn.datasets as datasets\n",
    "\n",
    "\n",
    "#Tran, test, split data set\n"
   ]
  },
  {
   "cell_type": "code",
   "execution_count": 9,
   "metadata": {},
   "outputs": [],
   "source": [
    "# KMmeans - three clusters \n",
    "\n",
    "# MinMaxScalar fit and transform on training and test set\n",
    "\n",
    "\n",
    "# K-Means fit on training and test set\n",
    "\n",
    "\n",
    "# KMeans plot the fit cluster assignments and cluster centers \n"
   ]
  },
  {
   "cell_type": "code",
   "execution_count": 10,
   "metadata": {},
   "outputs": [],
   "source": [
    "#K-Means predict on scaled training and test\n",
    "\n",
    "\n",
    "# K-Means Scoring with ARI - Adjusted Rand Index Score\n",
    "# won't use metrics.accuracy_score, K-Means is not a classification tool, better tested w/Rand Index\n"
   ]
  },
  {
   "cell_type": "code",
   "execution_count": 11,
   "metadata": {},
   "outputs": [],
   "source": [
    "# re-load Iris and Apply DBSCAN\n",
    "\n",
    "#Tran, test, split data set\n"
   ]
  },
  {
   "cell_type": "code",
   "execution_count": 12,
   "metadata": {},
   "outputs": [],
   "source": [
    "#Apply DBSCAN to the Iris data set to identify the three class clusters\n",
    "\n",
    "# import numpy as np\n",
    "# from sklearn.preprocessing import MinMaxScaler\n",
    "# from sklearn.cluster import DBSCAN\n",
    "# from sklearn import metrics\n",
    "# import matplotlib.pyplot as plt\n",
    "\n",
    "# rescale the data to zero mean and unit variance\n",
    "\n",
    "\n",
    "# apply DBSCAN with decreased eps below default (0.5) to define clusters\n",
    "\n",
    "                              \n",
    "# DBSCAN number of clusters in labels, reducing noise\n",
    "\n",
    "\n",
    "# DBSCAN plot the cluster assignments and cluster centers \n",
    "# Black removed and is used for noise instead.\n"
   ]
  },
  {
   "cell_type": "code",
   "execution_count": 13,
   "metadata": {},
   "outputs": [],
   "source": [
    "# Second attempt to apply DBSCAN with a visulaization to separate out three Iris classes\n",
    "#Train, test, split data set\n",
    "\n",
    "\n",
    "# cluster the data into five clusters\n",
    "\n",
    "# plot the cluster assignments\n",
    "\n",
    "\n",
    "# After attempting two visualization methods to double-check, DBSCAN Does not \n",
    "# appear to be an ideal model to run analysis on the Iris data set as\n",
    "# it proves difficult to identify the third class segmentation with the eps \n",
    "# and min_samples hyperparameter values."
   ]
  },
  {
   "cell_type": "code",
   "execution_count": 14,
   "metadata": {},
   "outputs": [],
   "source": [
    "#DBSCAN predict on scaled training and test\n",
    "# true_X_train = dbscan.fit_predict(X_train)\n",
    "\n",
    "\n",
    "# true_X_test = dbscan.fit_predict(X_test)\n",
    "\n",
    "\n",
    " \n",
    "# DBSCAN Scoring with ARI - Adjusted Rand Index Score\n",
    "# won't use metrics.accuracy_score, K-Means is not a classification tool, better tested w/Rand Index\n",
    "\n"
   ]
  },
  {
   "cell_type": "code",
   "execution_count": 15,
   "metadata": {},
   "outputs": [],
   "source": [
    "# Agglomerative Heirarchical clustering technique\n",
    "\n",
    "# import matplotlib.pyplot as plt\n",
    "# import numpy as np\n",
    "# import mglearn as mglearn\n",
    "# from sklearn.cluster import AgglomerativeClustering\n",
    "\n",
    "# rescale the data to zero mean and unit variance\n",
    "\n",
    "\n",
    "# Apply Agglomerative Clustering with three assigned clusters\n"
   ]
  },
  {
   "cell_type": "code",
   "execution_count": 16,
   "metadata": {},
   "outputs": [],
   "source": [
    "#Agglomerative Heirarchical Clustering (AHC) predict on scaled training and test\n",
    "\n",
    "# AHC Scoring with ARI - Adjusted Rand Index Score\n",
    "# won't use metrics.accuracy_score, K-Means is not a classification tool, better tested w/Rand Index\n",
    "\n"
   ]
  }
 ],
 "metadata": {
  "kernelspec": {
   "display_name": "Python 3",
   "language": "python",
   "name": "python3"
  },
  "language_info": {
   "codemirror_mode": {
    "name": "ipython",
    "version": 3
   },
   "file_extension": ".py",
   "mimetype": "text/x-python",
   "name": "python",
   "nbconvert_exporter": "python",
   "pygments_lexer": "ipython3",
   "version": "3.6.8"
  }
 },
 "nbformat": 4,
 "nbformat_minor": 2
}
