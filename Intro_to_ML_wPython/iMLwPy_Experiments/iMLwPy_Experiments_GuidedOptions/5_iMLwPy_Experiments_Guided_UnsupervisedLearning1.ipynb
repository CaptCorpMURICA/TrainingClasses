{
 "cells": [
  {
   "cell_type": "markdown",
   "metadata": {},
   "source": [
    "# Guided Experiments 5: Unsupervised Learning 1"
   ]
  },
  {
   "cell_type": "markdown",
   "metadata": {},
   "source": [
    "# Imports"
   ]
  },
  {
   "cell_type": "code",
   "execution_count": 1,
   "metadata": {},
   "outputs": [],
   "source": [
    "# Imports\n",
    "import numpy as np\n",
    "import pandas as pd\n",
    "import graphviz\n",
    "import mglearn as mglearn\n",
    "import mglearn.plots\n",
    "import mglearn.datasets\n",
    "import matplotlib.pyplot as plt\n",
    "# ensures plots are inlined for the notebook presentation\n",
    "%matplotlib inline \n",
    "import scipy as sp\n",
    "from scipy import stats\n",
    "from scipy.cluster.hierarchy import dendrogram, ward\n",
    "import time\n",
    "from IPython.display import display\n",
    "import seaborn as sns\n",
    "import os\n",
    "import tensorflow as tf"
   ]
  },
  {
   "cell_type": "code",
   "execution_count": 2,
   "metadata": {},
   "outputs": [],
   "source": [
    "# Sci-Kit Imports\n",
    "import sklearn as sklearn\n",
    "from sklearn import metrics\n",
    "from sklearn.metrics import mean_squared_error\n",
    "from sklearn.metrics.cluster import adjusted_rand_score\n",
    "from sklearn.metrics.cluster import silhouette_score\n",
    "from sklearn.metrics import accuracy_score\n",
    "from sklearn.metrics import roc_curve, auc\n",
    "from sklearn.metrics import r2_score\n",
    "from sklearn.metrics import confusion_matrix, classification_report\n",
    "from sklearn.multiclass import OneVsRestClassifier\n",
    "from sklearn.model_selection import train_test_split\n",
    "from sklearn.linear_model import LinearRegression\n",
    "from sklearn.linear_model import Ridge\n",
    "from sklearn.linear_model import Lasso\n",
    "from sklearn.linear_model import LogisticRegression\n",
    "from sklearn.tree import DecisionTreeRegressor\n",
    "from sklearn.tree import DecisionTreeClassifier\n",
    "from sklearn.ensemble import RandomForestClassifier\n",
    "from sklearn.ensemble import GradientBoostingClassifier\n",
    "from sklearn.naive_bayes import GaussianNB, BernoulliNB, MultinomialNB\n",
    "from sklearn.svm import LinearSVC\n",
    "from sklearn.svm import SVC\n",
    "from sklearn.neural_network import MLPClassifier\n",
    "from sklearn.neighbors import KNeighborsClassifier\n",
    "from sklearn.neighbors import KNeighborsRegressor\n",
    "from sklearn.pipeline import make_pipeline\n",
    "from sklearn.preprocessing import MinMaxScaler\n",
    "from sklearn.preprocessing import StandardScaler\n",
    "from sklearn.decomposition import PCA\n",
    "from sklearn.decomposition import NMF\n",
    "from sklearn.manifold import TSNE\n",
    "from sklearn.cluster import KMeans\n",
    "from sklearn.cluster import AgglomerativeClustering\n",
    "from sklearn.cluster import DBSCAN\n",
    "\n",
    "import sklearn.datasets as datasets\n",
    "from sklearn.datasets import make_blobs\n",
    "from sklearn.datasets import load_iris\n",
    "# from sklearn.datasets import load_breast_cancer\n",
    "# from sklearn.datasets import fetch_lfw_people\n",
    "# from sklearn.datasets import load_digits\n",
    "# from sklearn.datasets import make_moons\n",
    "# from sklearn.datasets import make_circles\n",
    "from sklearn.datasets import load_wine"
   ]
  },
  {
   "cell_type": "code",
   "execution_count": 3,
   "metadata": {},
   "outputs": [],
   "source": [
    "# Mute warnings\n",
    "import warnings\n",
    "warnings.simplefilter(action='ignore', category=DeprecationWarning)\n",
    "warnings.simplefilter(action='ignore', category=FutureWarning)\n",
    "warnings.simplefilter(action='ignore', category=UserWarning)\n",
    "# warnings.simplefilter(action='ignore', category=WARNING)"
   ]
  },
  {
   "cell_type": "code",
   "execution_count": 8,
   "metadata": {},
   "outputs": [],
   "source": [
    "# Apply DBSCAN to synthetic data set\n",
    "\n",
    "# from sklearn.datasets import make_blobs \n",
    "# make synthetic data \n",
    "X_blob, y_blob = make_blobs(random_state=321, n_samples=150)"
   ]
  },
  {
   "cell_type": "code",
   "execution_count": 9,
   "metadata": {},
   "outputs": [
    {
     "data": {
      "text/plain": [
       "Text(0, 0.5, 'Feature 1')"
      ]
     },
     "execution_count": 9,
     "metadata": {},
     "output_type": "execute_result"
    },
    {
     "data": {
      "image/png": "[encoded data removed]",
      "text/plain": [
       "<Figure size 432x288 with 1 Axes>"
      ]
     },
     "metadata": {
      "needs_background": "light"
     },
     "output_type": "display_data"
    }
   ],
   "source": [
    "# import numpy as np\n",
    "# import mglearn as mglearn\n",
    "# from sklearn.preprocessing import MinMaxScaler\n",
    "# from sklearn.cluster import DBSCAN\n",
    "\n",
    "# rescale the data to zero mean and unit variance\n",
    "MMscaler = MinMaxScaler()\n",
    "MMscaler.fit(X_blob)\n",
    "X_scaled_MM = MMscaler.transform(X_blob)\n",
    "\n",
    "# apply DBSCAN with decreased eps below default (0.5) to define clusters\n",
    "dbscan = DBSCAN(eps=0.3, min_samples=35)\n",
    "clusters = dbscan.fit_predict(X_scaled_MM)\n",
    "\n",
    "# plot the cluster assignments\n",
    "plt.scatter(X_scaled_MM[:, 0], X_scaled_MM[:, 1], c=clusters, cmap=mglearn.cm2, s=60)\n",
    "plt.xlabel(\"Feature 0\")\n",
    "plt.ylabel(\"Feature 1\")"
   ]
  },
  {
   "cell_type": "markdown",
   "metadata": {},
   "source": [
    "# Use PCA for dimensionality reduction on Wine data set"
   ]
  },
  {
   "cell_type": "code",
   "execution_count": 10,
   "metadata": {},
   "outputs": [],
   "source": [
    "# Load Wine data set, binarize and train test split\n",
    "# from sklearn.datasets import load_wine\n",
    "from sklearn.preprocessing import label_binarize\n",
    "wine = load_wine(return_X_y=False)\n",
    "\n",
    "# Create Pandas DataFrame\n",
    "wine_target = pd.DataFrame(wine.target_names, columns=['class'])\n",
    "wine_features = pd.DataFrame(wine.data, columns=wine.feature_names)\n",
    "\n",
    "wine_target_binarize = label_binarize(wine_target, classes=[0,1,2])\n",
    "n_classes = 3\n",
    "\n",
    "wine_features, wine_target_binarize = load_wine(return_X_y=True)\n",
    "X_train, X_test, y_train, y_test = train_test_split(wine_features, wine_target_binarize, \n",
    "                                                    test_size=0.30, random_state=321)"
   ]
  },
  {
   "cell_type": "code",
   "execution_count": 11,
   "metadata": {},
   "outputs": [],
   "source": [
    "## Apply Standard Scalar to Wine data set for preprocessing\n",
    "\n",
    "# from sklearn.preprocessing import StandardScaler\n",
    "# It is important to apply exact same transformation to training and test sets\n",
    "# preprocessing using zero mean and unit variance scaling - StandardScaler\n",
    "# scale data using StandardScaler\n",
    "SSscaler = StandardScaler() \n",
    " \n",
    "# Efficiently calling fit and transform on training and test set\n",
    "X_train_scaled= SSscaler.fit_transform(X_train)\n",
    "X_test_scaled= SSscaler.fit_transform(X_test)"
   ]
  },
  {
   "cell_type": "code",
   "execution_count": 12,
   "metadata": {},
   "outputs": [
    {
     "name": "stdout",
     "output_type": "stream",
     "text": [
      "\n",
      "Prediction accuracy for scaled train data with StandardScalar and PCA\n",
      "100.00%\n",
      "Prediction accuracy for scaled test data with StandardScalar and PCA\n",
      "85.19%\n",
      "\n",
      "Training set R^2 score: 1.00\n",
      "Test set R^2 score: 0.85\n"
     ]
    }
   ],
   "source": [
    "## USING STANDARD SCALAR ON PCA\n",
    "\n",
    "# Use pipeline for PCA and application of algorithm for further dimensionality reduction\n",
    "# from sklearn import metrics\n",
    "# from sklearn.metrics import accuracy_score\n",
    "# from sklearn.decomposition import PCA\n",
    "# from sklearn.pipeline import make_pipeline\n",
    "# from sklearn.tree import DecisionTreeClassifier\n",
    "\n",
    "# Fit to data and predict using pipelined PCA, \n",
    "# and DecisionTreeClassifier for additional dimensionality reduction\n",
    "dt_clf = make_pipeline(PCA(n_components=3), DecisionTreeClassifier(random_state=321))\n",
    "dt_clf.fit(X_train_scaled, y_train)\n",
    "pred_X_train = dt_clf.predict(X_train_scaled)\n",
    "pred_X_test = dt_clf.predict(X_test_scaled)\n",
    "\n",
    "\n",
    "print('\\nPrediction accuracy for scaled train data with StandardScalar and PCA')\n",
    "print('{:.2%}'.format(metrics.accuracy_score(pred_X_train, y_train)))\n",
    "print('Prediction accuracy for scaled test data with StandardScalar and PCA')\n",
    "print('{:.2%}\\n'.format(metrics.accuracy_score(pred_X_test, y_test)))\n",
    "\n",
    "\n",
    "print(\"Training set R^2 score: {:.2f}\".format(dt_clf.score(X_train_scaled, y_train))) \n",
    "print(\"Test set R^2 score: {:.2f}\".format(dt_clf.score(X_test_scaled, y_test)))"
   ]
  },
  {
   "cell_type": "code",
   "execution_count": 13,
   "metadata": {},
   "outputs": [],
   "source": [
    "## Apply MinMaxScalar to Wine data set for preprocessing\n",
    "\n",
    "# from sklearn.preprocessing import MinMaxScaler\n",
    "# It is important to apply exact same transformation to training and test sets\n",
    "# Computes the Min and Max falue of each feature\n",
    "# scale data using MinMaxScaler\n",
    "MMscaler = MinMaxScaler() \n",
    " \n",
    "# Efficiently calling fit and transform on training and test set\n",
    "X_train_scaled= MMscaler.fit_transform(X_train)\n",
    "X_test_scaled= MMscaler.fit_transform(X_test)"
   ]
  },
  {
   "cell_type": "code",
   "execution_count": 14,
   "metadata": {},
   "outputs": [
    {
     "name": "stdout",
     "output_type": "stream",
     "text": [
      "\n",
      "Prediction accuracy for scaled train data with StandardScalar and PCA\n",
      "100.00%\n",
      "Prediction accuracy for scaled test data with StandardScalar and PCA\n",
      "90.74%\n",
      "\n",
      "Training set R^2 score: 1.00\n",
      "Test set R^2 score: 0.91\n",
      "\n",
      "MinMaxScalar Appears to be more accurate than using StandardScalar\n"
     ]
    }
   ],
   "source": [
    "## USING MIN_MAX_SCALAR ON PCA <<--MORE ACCURATE\n",
    "\n",
    "# Use pipeline for PCA and application of algorithm for further dimensionality reduction\n",
    "# from sklearn import metrics\n",
    "# from sklearn.metrics import accuracy_score\n",
    "# from sklearn.decomposition import PCA\n",
    "# from sklearn.pipeline import make_pipeline\n",
    "# from sklearn.tree import DecisionTreeClassifier\n",
    "\n",
    "# Fit to data and predict using pipelined PCA, \n",
    "# and DecisionTreeClassifier for additional dimensionality reduction\n",
    "dt_clf = make_pipeline(PCA(n_components=3), DecisionTreeClassifier(random_state=321))\n",
    "dt_clf.fit(X_train_scaled, y_train)\n",
    "pred_X_train = dt_clf.predict(X_train_scaled)\n",
    "pred_X_test = dt_clf.predict(X_test_scaled)\n",
    "\n",
    "print('\\nPrediction accuracy for scaled train data with StandardScalar and PCA')\n",
    "print('{:.2%}'.format(metrics.accuracy_score(pred_X_train, y_train)))\n",
    "print('Prediction accuracy for scaled test data with StandardScalar and PCA')\n",
    "print('{:.2%}\\n'.format(metrics.accuracy_score(pred_X_test, y_test)))\n",
    "\n",
    "print(\"Training set R^2 score: {:.2f}\".format(dt_clf.score(X_train_scaled, y_train))) \n",
    "print(\"Test set R^2 score: {:.2f}\".format(dt_clf.score(X_test_scaled, y_test)))\n",
    "\n",
    "print('\\nMinMaxScalar Appears to be more accurate than using StandardScalar')"
   ]
  }
 ],
 "metadata": {
  "kernelspec": {
   "display_name": "Python 3",
   "language": "python",
   "name": "python3"
  },
  "language_info": {
   "codemirror_mode": {
    "name": "ipython",
    "version": 3
   },
   "file_extension": ".py",
   "mimetype": "text/x-python",
   "name": "python",
   "nbconvert_exporter": "python",
   "pygments_lexer": "ipython3",
   "version": "3.6.8"
  }
 },
 "nbformat": 4,
 "nbformat_minor": 2
}
